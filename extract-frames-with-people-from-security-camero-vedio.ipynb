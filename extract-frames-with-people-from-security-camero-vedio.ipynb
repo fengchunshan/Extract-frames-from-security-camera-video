{
 "cells": [
  {
   "cell_type": "markdown",
   "id": "1253fd37",
   "metadata": {},
   "source": [
    "# Problem description\n",
    "This project task is to find frames with people from a security camera video. The project idea is from my former company working experience. My former company is a factory, and there are a lot of security cameras in the factory. One day, a manager found someone hide a box of not good products in a corner at night, the manager wanted to find who does this. He needs to check the recorded video, but the video was long, last for about 10 hours. It was very time consuming. I want to use machine learning to solve this problem, filtering out the frames without people, then manager only check the frames with people. Most frames have nobody inside. It’s benefit is to save manager time. It is an unsupervised machine learning problem, for evaluation, I watch the whole video to compare the machine learning result.\n",
    "The dataset is in kaggle.\n",
    "https://www.kaggle.com/chunshanfeng/security-camera-video"
   ]
  },
  {
   "cell_type": "markdown",
   "id": "be5de20f",
   "metadata": {},
   "source": [
    "# Roadmap\n",
    "The project road map. First step, extracting frames from video. Then I tried two methods to solve this problem. \n",
    "Solution one, using image clustering method.\n",
    "Solution two, calculating the neighbouring images similarity."
   ]
  },
  {
   "cell_type": "code",
   "execution_count": 1,
   "id": "63b431d7",
   "metadata": {},
   "outputs": [
    {
     "data": {
      "image/png": "[encoded data removed]",
      "text/plain": [
       "<Figure size 1152x576 with 1 Axes>"
      ]
     },
     "metadata": {
      "needs_background": "light"
     },
     "output_type": "display_data"
    }
   ],
   "source": [
    "import cv2\n",
    "import os\n",
    "import datetime\n",
    "import time\n",
    "import pandas as pd\n",
    "import numpy as np\n",
    "from sklearn.cluster import KMeans\n",
    "import matplotlib.pyplot as plt\n",
    "%matplotlib inline \n",
    "import warnings\n",
    "warnings.filterwarnings(\"ignore\")\n",
    "\n",
    "# create a folder to save frames\n",
    "import os\n",
    "if not os.path.exists('image'):\n",
    "    os.makedirs('image')\n",
    "\n",
    "# read the video    \n",
    "vidcap = cv2.VideoCapture('security.mp4')\n",
    "\n",
    "# result is dataframe to save frames\n",
    "result=pd.DataFrame()\n",
    "diff=[]\n",
    "\n",
    "# if the folder 'image' has files, then delete them\n",
    "dir = 'image'\n",
    "for f in os.listdir(dir):\n",
    "    os.remove(os.path.join(dir, f))\n",
    " \n",
    "\n",
    "def getFrame(sec):\n",
    "    # this function get frames from video\n",
    "    global result,diff\n",
    "    vidcap.set(cv2.CAP_PROP_POS_MSEC,sec*1000)\n",
    "    hasFrames,image = vidcap.read()\n",
    "    if hasFrames:\n",
    "        gray = cv2.cvtColor(image, cv2.COLOR_BGR2GRAY)\n",
    "        img=gray\n",
    "        width=128\n",
    "        height=72\n",
    "            \n",
    "        dim = (width, height)\n",
    "\n",
    "        seconds=sec\n",
    "        hours = seconds // (60*60)\n",
    "        seconds %= (60*60)\n",
    "        minutes = seconds // 60\n",
    "        seconds %= 60\n",
    "\n",
    "            # resize image\n",
    "        resized = cv2.resize(img, dim, interpolation = cv2.INTER_AREA)\n",
    "        image=resized \n",
    "        image=image/255\n",
    "        vectorized = image.reshape((1,-1))\n",
    "\n",
    "        df=pd.DataFrame(vectorized)\n",
    "        file=\"image-\"+ str(hours) +\"h\" + str(minutes) +\"m\" +str(seconds)+\"s.jpg\"\n",
    "\n",
    "        df.insert(0, \"frame\", file)\n",
    "        if len(diff)==0:\n",
    "            diff2=0\n",
    "            diff.append(image)\n",
    "        else:\n",
    "            lastimage=diff[-1]\n",
    "            \n",
    "            difference = cv2.subtract(lastimage, image)\n",
    "            diff2= np.sum(difference**2)\n",
    "            diff2=np.sqrt(diff2)\n",
    "            diff.append(image)\n",
    "        df.insert(1, \"difference\", diff2)\n",
    "        frames = [result, df]\n",
    "        result = pd.concat(frames, ignore_index=True)\n",
    "        path = 'image'\n",
    "\n",
    "        image=image*255\n",
    "        cv2.imwrite(os.path.join(path, \"image-\"+ str(hours) +\"h\" + str(minutes) +\"m\" +str(seconds)+\"s.jpg\"), image)\n",
    "         \n",
    "    return hasFrames\n",
    "\n",
    "sec = 0\n",
    "frameRate = 1   #//it will capture image in each 1 second\n",
    "count=1\n",
    "\n",
    "success = getFrame(sec)\n",
    "while success:\n",
    "    count = count + 1\n",
    "    sec = sec + frameRate\n",
    "    sec = round(sec, 2)\n",
    "    success = getFrame(sec)\n",
    "\n",
    "# We run K-means with a fixed number of clusters. In our case 4.\n",
    "result2=result.drop(['frame','difference'], axis=1)\n",
    "\n",
    "\n",
    "distortions = []\n",
    "K = range(1,10)\n",
    "for k in K:\n",
    "    kmeanModel = KMeans(n_clusters=k)\n",
    "    kmeanModel.fit(result2)\n",
    "    distortions.append(kmeanModel.inertia_)\n",
    "    \n",
    "plt.figure(figsize=(16,8))\n",
    "plt.plot(K, distortions, 'bx-')\n",
    "plt.xlabel('k')\n",
    "plt.ylabel('Distortion')\n",
    "plt.title('The Elbow Method showing the optimal k')\n",
    "plt.show()\n",
    "\n",
    "\n",
    "kmeans = KMeans(n_clusters = 7, init = 'k-means++', random_state = 42)\n",
    "# We divide our data into the seven clusters.\n",
    "kmeans.fit(result2)\n",
    "# We create a new data frame with the original features and add a new column with the assigned clusters for each point.\n",
    "df_segm_kmeans = result.copy()\n",
    "#df_segm_kmeans['Segment K-means'] = kmeans.labels_\n",
    "df_segm_kmeans.insert(2,\"k-means\",kmeans.labels_)\n",
    "\n",
    "# save both the image clustering result and neighbouring similarity result to result.csv file\n",
    "df1 = df_segm_kmeans[['frame','difference','k-means']]\n",
    "df1.to_csv('result.csv')"
   ]
  },
  {
   "cell_type": "markdown",
   "id": "5d7e29e0",
   "metadata": {},
   "source": [
    "The challenge for K-means cluster is to find the clusters number. For this problem, I need use our domain knowledge. Elbow method does not work well in this problem. If using elbow method, it seems we should choose clusters number two, actually two is not a good choice.\n",
    "\n",
    "Let’s see the result. This chart shows the result of image clustering evaluation. I use F1 score to evaluate different cluster result. From the result, we know two clusters is not good choice. Five and Six clusters have little improvement than three and four clusters.\n",
    "![image clustering evaluation](https://user-images.githubusercontent.com/32756270/150694726-c28d388c-e489-4d2a-bab5-bac378b9333a.png)\n"
   ]
  },
  {
   "cell_type": "code",
   "execution_count": 6,
   "id": "324b609c",
   "metadata": {},
   "outputs": [
    {
     "data": {
      "text/plain": [
       "<AxesSubplot:>"
      ]
     },
     "execution_count": 6,
     "metadata": {},
     "output_type": "execute_result"
    },
    {
     "data": {
      "image/png": "[encoded data removed]",
      "text/plain": [
       "<Figure size 432x288 with 1 Axes>"
      ]
     },
     "metadata": {
      "needs_background": "light"
     },
     "output_type": "display_data"
    }
   ],
   "source": [
    "df_line=df1['difference']\n",
    "df_line.plot.line()"
   ]
  },
  {
   "cell_type": "markdown",
   "id": "6a94b003",
   "metadata": {},
   "source": [
    "This chart shows the result of image similarity calculation. I use euclidean distance to calculate the neighbouring images similarity. If distance is small, it means neighbouring images are similar,  no motion between the images. If distance is large, it means  neighbouring images are not similar, there is person movement in the video. These three high distance area is the images with people. Choosing the images which distance over 3, this method accuracy is 99 percent. "
   ]
  },
  {
   "cell_type": "markdown",
   "id": "ba47f655",
   "metadata": {},
   "source": [
    "# Conclusion\n",
    "Comparing the two methods, I think calculating images distance is better, it needn’t face the challenge to choose cluster number."
   ]
  }
 ],
 "metadata": {
  "kernelspec": {
   "display_name": "Python 3",
   "language": "python",
   "name": "python3"
  },
  "language_info": {
   "codemirror_mode": {
    "name": "ipython",
    "version": 3
   },
   "file_extension": ".py",
   "mimetype": "text/x-python",
   "name": "python",
   "nbconvert_exporter": "python",
   "pygments_lexer": "ipython3",
   "version": "3.8.8"
  }
 },
 "nbformat": 4,
 "nbformat_minor": 5
}
